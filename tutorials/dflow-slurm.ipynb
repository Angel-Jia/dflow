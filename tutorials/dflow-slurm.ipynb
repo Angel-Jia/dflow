{
 "cells": [
  {
   "cell_type": "code",
   "execution_count": null,
   "metadata": {},
   "outputs": [],
   "source": [
    "from dflow import SlurmRemoteExecutor\n",
    "\n",
    "from dflow import upload_artifact, Workflow, Step\n",
    "\n",
    "from dflow.python import PythonOPTemplate, OP, OPIO, OPIOSign, Artifact, Slices\n",
    "import os\n",
    "from typing import List\n",
    "from pathlib import Path\n",
    "import subprocess"
   ]
  },
  {
   "cell_type": "code",
   "execution_count": null,
   "metadata": {},
   "outputs": [],
   "source": [
    "from dflow import config\n",
    "from dflow import s3_config\n",
    "\n",
    "config[\"host\"] = \"https://your-ip-address:60001\"\n",
    "s3_config[\"endpoint\"] = \"your-ip-address:60002\""
   ]
  },
  {
   "cell_type": "code",
   "execution_count": null,
   "metadata": {},
   "outputs": [],
   "source": [
    "class CP2KOpt(OP):\n",
    "    def __init__(self):\n",
    "        pass\n",
    "\n",
    "    @classmethod\n",
    "    def get_input_sign(cls):\n",
    "        return OPIOSign({\"Opt_input\": Artifact(Path)})\n",
    "\n",
    "    @classmethod\n",
    "    def get_output_sign(cls):\n",
    "        return OPIOSign({\"Opt_output\": Artifact(Path)})\n",
    "\n",
    "    @OP.exec_sign_check\n",
    "    def execute(self, op_in: OPIO) -> OPIO:\n",
    "        cwd = os.getcwd()\n",
    "        os.chdir(op_in[\"Opt_input\"])\n",
    "        cmd = \"ulimit -s unlimited; srun /opt/cp2k-9.1/cp2k-9.1-Linux-x86_64.ssmp -i input.inp -o output.out\"\n",
    "        subprocess.call(cmd, shell=True)\n",
    "        os.chdir(cwd)\n",
    "        return OPIO({\"Opt_output\": op_in[\"Opt_input\"] / \"output.out\"})"
   ]
  },
  {
   "cell_type": "markdown",
   "metadata": {},
   "source": [
    "if you do not have cp2k compiled. Don't worry. They offer an out-of-box version. We can directly use it. Download here: \n",
    "However, you need to download the pseudopotential etc. And configure your environment.\n",
    "...."
   ]
  },
  {
   "cell_type": "code",
   "execution_count": null,
   "metadata": {},
   "outputs": [],
   "source": [
    "slurm_remote_executor = SlurmRemoteExecutor(\n",
    "    host=\"your-cluster-address\",\n",
    "    username=\"your-login-username\",\n",
    "    password=\"your-login-password\",\n",
    "    header=\"#!/bin/bash\\n#SBATCH --nodes=1\\n#SBATCH --ntasks-per-node=4\\n#SBATCH --partition=cpu\\n#SBATCH -e test.err\\n\",\n",
    ")\n",
    "\n",
    "Structure_Opt = Step(\n",
    "    \"Structure-Opt\",\n",
    "    PythonOPTemplate(CP2KOpt),\n",
    "    artifacts={\"Opt_input\": upload_artifact([\"./cp2k_opt\"])},\n",
    "    executor=slurm_remote_executor,\n",
    ")\n",
    "\n",
    "\n",
    "wf = Workflow(name=\"cp2k-task\")\n",
    "wf.add(Structure_Opt)\n",
    "wf.submit()"
   ]
  }
 ],
 "metadata": {
  "kernelspec": {
   "display_name": "Python 3.8.13 ('dflow')",
   "language": "python",
   "name": "python3"
  },
  "language_info": {
   "name": "python",
   "version": "3.8.13"
  },
  "orig_nbformat": 4,
  "vscode": {
   "interpreter": {
    "hash": "6b9551e59394a2991b809952bb73195262197907daf1011efb2c98895a84e3cb"
   }
  }
 },
 "nbformat": 4,
 "nbformat_minor": 2
}
