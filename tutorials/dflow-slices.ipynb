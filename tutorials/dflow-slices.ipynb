{
 "cells": [
  {
   "cell_type": "markdown",
   "metadata": {},
   "source": [
    "# Task\n",
    "We want to achieve the following workflow:\n",
    "\n",
    "Step 1. \n",
    "1. Write \"Hello\" in a file \n",
    "\n",
    "Step 2:\n",
    "1. Check filename\n",
    "\n",
    "**However, this is too simple for dflow. We want to write \"Hello\" in 10 different files.**"
   ]
  },
  {
   "cell_type": "code",
   "execution_count": 25,
   "metadata": {},
   "outputs": [],
   "source": [
    "from typing import List\n",
    "\n",
    "from dflow import Step, Workflow, argo_range\n",
    "from dflow.python import OP, OPIO, Artifact, OPIOSign, PythonOPTemplate, Slices"
   ]
  },
  {
   "cell_type": "code",
   "execution_count": 11,
   "metadata": {},
   "outputs": [],
   "source": [
    "class Hello(OP):\n",
    "    def __init__(self):\n",
    "        pass\n",
    "\n",
    "    @classmethod\n",
    "    def get_input_sign(cls):\n",
    "        return OPIOSign({\n",
    "            'filename': str\n",
    "        })\n",
    "\n",
    "    @classmethod\n",
    "    def get_output_sign(cls):\n",
    "        return OPIOSign({\n",
    "            'out_art': Artifact(str)\n",
    "        })\n",
    "\n",
    "    @OP.exec_sign_check\n",
    "    def execute(\n",
    "            self,\n",
    "            op_in: OPIO,\n",
    "    ) -> OPIO:\n",
    "        file_num = int(op_in[\"filename\"].split('.')[0][1:])\n",
    "        open(op_in[\"filename\"], \"w\").write(\"Hello\" * file_num)\n",
    "        op_out = OPIO({\n",
    "            'out_art': op_in[\"filename\"]\n",
    "        })\n",
    "        return op_out"
   ]
  },
  {
   "cell_type": "code",
   "execution_count": 12,
   "metadata": {},
   "outputs": [],
   "source": [
    "class Check(OP):\n",
    "    def __init__(self):\n",
    "        pass\n",
    "\n",
    "    @classmethod\n",
    "    def get_input_sign(cls):\n",
    "        return OPIOSign({\n",
    "            'filename': Artifact(List[str])\n",
    "        })\n",
    "\n",
    "    @classmethod\n",
    "    def get_output_sign(cls):\n",
    "        return OPIOSign()\n",
    "\n",
    "    @OP.exec_sign_check\n",
    "    def execute(\n",
    "            self,\n",
    "            op_in: OPIO,\n",
    "    ) -> OPIO:\n",
    "        print(op_in[\"filename\"])\n",
    "        return OPIO()"
   ]
  },
  {
   "cell_type": "code",
   "execution_count": 19,
   "metadata": {},
   "outputs": [
    {
     "name": "stdout",
     "output_type": "stream",
     "text": [
      "Workflow has been submitted (ID: slices-h5bqp)\n"
     ]
    }
   ],
   "source": [
    "wf = Workflow(\"slices\")\n",
    "hello = Step(\"hello\",\n",
    "            PythonOPTemplate(Hello, image=\"python:3.8\",\n",
    "                            slices=Slices(\"{{item}}\",\n",
    "                                        input_parameter=[\"filename\"],\n",
    "                                        output_artifact=[\"out_art\"]\n",
    "                                        )\n",
    "                            ),\n",
    "            parameters={\"filename\": [f\"f{x}.txt\" for x in range(10)]},\n",
    "            key=\"no1\",\n",
    "            with_param=argo_range(10))\n",
    "check = Step(\"check\",\n",
    "            PythonOPTemplate(Check, image=\"python:3.8\"),\n",
    "            artifacts={\"filename\": hello.outputs.artifacts[\"out_art\"]},\n",
    "            )\n",
    "wf.add(hello)\n",
    "wf.add(check)\n",
    "wf.submit();"
   ]
  }
 ],
 "metadata": {
  "kernelspec": {
   "display_name": "Python 3.8.13 ('dflow')",
   "language": "python",
   "name": "python3"
  },
  "language_info": {
   "codemirror_mode": {
    "name": "ipython",
    "version": 3
   },
   "file_extension": ".py",
   "mimetype": "text/x-python",
   "name": "python",
   "nbconvert_exporter": "python",
   "pygments_lexer": "ipython3",
   "version": "3.8.13"
  },
  "orig_nbformat": 4,
  "vscode": {
   "interpreter": {
    "hash": "6b9551e59394a2991b809952bb73195262197907daf1011efb2c98895a84e3cb"
   }
  }
 },
 "nbformat": 4,
 "nbformat_minor": 2
}
