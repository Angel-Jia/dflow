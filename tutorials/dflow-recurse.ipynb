{
 "cells": [
  {
   "cell_type": "markdown",
   "metadata": {},
   "source": [
    "# Task\n",
    "We want to achieve the following workflow:\n",
    "\n",
    "1. do addition until reaching a certain value\n",
    "\n",
    "**Note:**\n",
    "\n",
    "**This might seem simple for a python program. But you can imagine, we can swap 'do addition' to something else, like machine learning training.**\n",
    "\n",
    "**Run through this python notebook and think about the differences between the while loop and dflow recurse steps.**"
   ]
  },
  {
   "cell_type": "code",
   "execution_count": 2,
   "metadata": {},
   "outputs": [],
   "source": [
    "from dflow import (\n",
    "    InputParameter,\n",
    "    Inputs,\n",
    "    OutputParameter,\n",
    "    ShellOPTemplate,\n",
    "    Step,\n",
    "    Steps,\n",
    "    Workflow,\n",
    ")"
   ]
  },
  {
   "cell_type": "code",
   "execution_count": 3,
   "metadata": {},
   "outputs": [],
   "source": [
    "plus1 = ShellOPTemplate(\n",
    "    name=\"plus1\",\n",
    "    image=\"alpine:3.15\",\n",
    "    script=\"echo 'This is iter {{inputs.parameters.iter}}' && \"\n",
    "    \"echo $(({{inputs.parameters.iter}}+1)) > /tmp/result.txt\",\n",
    ")\n",
    "plus1.inputs.parameters = {\"iter\": InputParameter()}\n",
    "plus1.outputs.parameters = {\"iter\": OutputParameter(value_from_path=\"/tmp/result.txt\")}"
   ]
  },
  {
   "cell_type": "code",
   "execution_count": 4,
   "metadata": {},
   "outputs": [],
   "source": [
    "steps = Steps(\n",
    "    name=\"iter\",\n",
    "    inputs=Inputs(\n",
    "        parameters={\"iter\": InputParameter(value=0), \"limit\": InputParameter(value=3)}\n",
    "    ),\n",
    ")"
   ]
  },
  {
   "cell_type": "markdown",
   "metadata": {},
   "source": [
    "**Note**\n",
    "\n",
    "1. We are using `dflow.Steps` not `dflow.Step`. \n",
    "\n",
    "2. `Steps` is essentially an `OPTemplate` ([See source code](https://github.com/deepmodeling/dflow/blob/master/src/dflow/steps.py)). Using this function, we can construct more complicated workflow. For instance, we are using `dflow.Steps` to create a while loop. "
   ]
  },
  {
   "cell_type": "code",
   "execution_count": 5,
   "metadata": {},
   "outputs": [],
   "source": [
    "addition = Step(\n",
    "    name=\"add\", template=plus1, parameters={\"iter\": steps.inputs.parameters[\"iter\"]}\n",
    ")"
   ]
  },
  {
   "cell_type": "code",
   "execution_count": 7,
   "metadata": {},
   "outputs": [],
   "source": [
    "loop = Step(\n",
    "    name=\"loop\",\n",
    "    template=steps,\n",
    "    parameters={\"iter\": addition.outputs.parameters[\"iter\"]},\n",
    "    when=\"%s < %s\"\n",
    "    % (addition.outputs.parameters[\"iter\"], steps.inputs.parameters[\"limit\"]),\n",
    ")"
   ]
  },
  {
   "cell_type": "markdown",
   "metadata": {},
   "source": [
    "This step use steps as its template (note that Steps is a subclass of OPTemplate), meanwhile the steps it used contains this step,which gives a recursion. The recursion will stop when the \"when\" condition is satisfied (after 10 loops in this example)"
   ]
  },
  {
   "cell_type": "code",
   "execution_count": 8,
   "metadata": {},
   "outputs": [],
   "source": [
    "steps.add(addition)\n",
    "steps.add(loop)"
   ]
  },
  {
   "cell_type": "code",
   "execution_count": null,
   "metadata": {},
   "outputs": [],
   "source": [
    "wf = Workflow(\"recurse\", steps=steps)\n",
    "wf.submit();"
   ]
  }
 ],
 "metadata": {
  "kernelspec": {
   "display_name": "Python 3.8.13 ('dflow')",
   "language": "python",
   "name": "python3"
  },
  "language_info": {
   "codemirror_mode": {
    "name": "ipython",
    "version": 3
   },
   "file_extension": ".py",
   "mimetype": "text/x-python",
   "name": "python",
   "nbconvert_exporter": "python",
   "pygments_lexer": "ipython3",
   "version": "3.8.13"
  },
  "orig_nbformat": 4,
  "vscode": {
   "interpreter": {
    "hash": "6b9551e59394a2991b809952bb73195262197907daf1011efb2c98895a84e3cb"
   }
  }
 },
 "nbformat": 4,
 "nbformat_minor": 2
}
