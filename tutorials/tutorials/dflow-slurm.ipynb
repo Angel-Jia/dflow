{
 "cells": [
  {
   "cell_type": "code",
   "execution_count": null,
   "metadata": {},
   "outputs": [],
   "source": [
    "from dflow import SlurmRemoteExecutor\n",
    "\n",
    "from dflow import upload_artifact, Workflow, Step\n",
    "\n",
    "from dflow.python import PythonOPTemplate, OP, OPIO, OPIOSign, Artifact, Slices\n",
    "import os\n",
    "from typing import List\n",
    "from pathlib import Path\n",
    "import subprocess"
   ]
  },
  {
   "cell_type": "code",
   "execution_count": null,
   "metadata": {},
   "outputs": [],
   "source": [
    "from dflow import config\n",
    "from dflow import s3_config\n",
    "\n",
    "config[\"host\"] = \"https://your-ip-address:your-port\"\n",
    "s3_config[\"endpoint\"] = \"your-ip-address:your-port\""
   ]
  },
  {
   "cell_type": "markdown",
   "metadata": {},
   "source": [
    "**CP2KOpt OP**\n",
    "\n",
    "To complete a cp2k calculation task, we need input.inp as input and then cp2k will return several files after calculation, among them, the output.out is the one we need in a optimization task.\n",
    "\n",
    "***cmd***: **you need to use the cp2k exec in your environment. For example, srun or mpirun? which version...**"
   ]
  },
  {
   "cell_type": "code",
   "execution_count": null,
   "metadata": {},
   "outputs": [],
   "source": [
    "class CP2KOpt(OP):\n",
    "    def __init__(self):\n",
    "        pass\n",
    "\n",
    "    @classmethod\n",
    "    def get_input_sign(cls):\n",
    "        return OPIOSign({\"Opt_input\": Artifact(Path)})\n",
    "\n",
    "    @classmethod\n",
    "    def get_output_sign(cls):\n",
    "        return OPIOSign({\"Opt_output\": Artifact(Path)})\n",
    "\n",
    "    @OP.exec_sign_check\n",
    "    def execute(self, op_in: OPIO) -> OPIO:\n",
    "        cwd = os.getcwd()\n",
    "        os.chdir(op_in[\"Opt_input\"])\n",
    "        cmd = \"ulimit -s unlimited; (your cp2k exec, for example, srun cp2k-9.1-Linux-x86_64.ssmp -i input.inp -o output.out)\"\n",
    "        subprocess.call(cmd, shell=True)\n",
    "        os.chdir(cwd)\n",
    "        return OPIO({\"Opt_output\": op_in[\"Opt_input\"] / \"output.out\"})"
   ]
  },
  {
   "cell_type": "markdown",
   "metadata": {},
   "source": [
    "`SlurmRemoteExecutor` module is used to connect to slurm cluster, with four necessary parameters:\n",
    "\n",
    "- host\n",
    "- username\n",
    "- password\n",
    "- header\n",
    "\n",
    "We can use `CP2KOpt` template to define cp2k opt step. After that, it is to submit the workflow."
   ]
  },
  {
   "cell_type": "code",
   "execution_count": null,
   "metadata": {},
   "outputs": [],
   "source": [
    "slurm_remote_executor = SlurmRemoteExecutor(\n",
    "    host=\"your-cluster-address\",\n",
    "    username=\"your-login-username\",\n",
    "    password=\"your-login-password\",\n",
    "    header=\"#!/bin/bash\\n#SBATCH --nodes=1\\n#SBATCH --ntasks-per-node=4\\n#SBATCH --partition=cpu\\n#SBATCH -e test.err\\n\",\n",
    ")\n",
    "\n",
    "Structure_Opt = Step(\n",
    "    \"Structure-Opt\",\n",
    "    PythonOPTemplate(CP2KOpt),\n",
    "    artifacts={\"Opt_input\": upload_artifact([\"./cp2k_opt\"])},\n",
    "    executor=slurm_remote_executor,\n",
    ")\n",
    "\n",
    "\n",
    "wf = Workflow(name=\"cp2k-task\")\n",
    "wf.add(Structure_Opt)\n",
    "wf.submit()"
   ]
  }
 ],
 "metadata": {
  "kernelspec": {
   "display_name": "Python 3.9.12 ('base')",
   "language": "python",
   "name": "python3"
  },
  "language_info": {
   "name": "python",
   "version": "3.9.12"
  },
  "orig_nbformat": 4,
  "vscode": {
   "interpreter": {
    "hash": "65b01cda8a5255d697b7c650722434fd8759cb966fc0703c59c131e9aaea8cdf"
   }
  }
 },
 "nbformat": 4,
 "nbformat_minor": 2
}
