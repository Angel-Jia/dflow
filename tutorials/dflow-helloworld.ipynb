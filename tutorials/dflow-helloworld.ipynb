{
 "cells": [
  {
   "cell_type": "markdown",
   "id": "d04ad065",
   "metadata": {},
   "source": [
    "# Task\n",
    "We want to achieve the following workflow:\n",
    "\n",
    "Step 1. \n",
    "1. Echo a string to msg.txt \n",
    "    \n",
    "2. Echo a number and redirect it to results.txt \n",
    "    \n",
    "Step 2.\n",
    "1. Duplicate the content in msg.txt two times and redirect it to a new file\n",
    "    \n",
    "2. Get the value in results.txt and times the number by 2 and redirect it to results.txt"
   ]
  },
  {
   "cell_type": "markdown",
   "id": "3cbde00c",
   "metadata": {},
   "source": [
    "To construct a workflow in dflow, three parts are needed:\n",
    "1. Construct OP templates\n",
    "2. Instantiate the OP template to Step\n",
    "3. Put steps together and submit the workflow"
   ]
  },
  {
   "cell_type": "markdown",
   "id": "46c8409e",
   "metadata": {},
   "source": [
    "## Construct OP template"
   ]
  },
  {
   "cell_type": "markdown",
   "id": "9e13ee1a",
   "metadata": {},
   "source": [
    "As explained in the [readme](https://github.com/dptech-corp/dflow#122--op-template), OP template is the fundamental component in dflow. For this particular workflow above, we need two OP templates:"
   ]
  },
  {
   "cell_type": "markdown",
   "id": "250d34e4",
   "metadata": {},
   "source": [
    "For step 1:"
   ]
  },
  {
   "cell_type": "code",
   "execution_count": 1,
   "id": "bf4691c3",
   "metadata": {},
   "outputs": [],
   "source": [
    "from dflow import ShellOPTemplate\n",
    "step1_templ = ShellOPTemplate(\n",
    "                name=\"Hello\",\n",
    "                image=\"alpine:latest\",\n",
    "                script=\"echo {{inputs.parameters.msg}} > /tmp/msg.txt && echo {{inputs.parameters.number}} > /tmp/results.txt\",\n",
    ")"
   ]
  },
  {
   "cell_type": "markdown",
   "id": "d7c88c1f",
   "metadata": {},
   "source": [
    "This defines the operation to be executed. Next, we need to setup the inputs and outputs for this step."
   ]
  },
  {
   "cell_type": "code",
   "execution_count": 2,
   "id": "abd766ca",
   "metadata": {},
   "outputs": [],
   "source": [
    "from dflow import InputParameter, OutputParameter, OutputArtifact\n",
    "step1_templ.inputs.parameters = {\n",
    "                            \"msg\": InputParameter(),\n",
    "                            \"number\": InputParameter(),\n",
    "}\n",
    "step1_templ.outputs.parameters = {\n",
    "                            \"out_param\": OutputParameter(value_from_path=\"/tmp/results.txt\")\n",
    "}\n",
    "step1_templ.outputs.artifacts = {\n",
    "                            \"out_art\": OutputArtifact(path=\"/tmp/msg.txt\")\n",
    "}"
   ]
  },
  {
   "cell_type": "markdown",
   "id": "f722a986",
   "metadata": {},
   "source": [
    "For step 2: "
   ]
  },
  {
   "cell_type": "code",
   "execution_count": 3,
   "id": "7314a7c9",
   "metadata": {},
   "outputs": [],
   "source": [
    "step2_templ = ShellOPTemplate(\n",
    "                name=\"Duplicate\",\n",
    "                image=\"alpine:latest\",\n",
    "                script=\"cat /tmp/foo.txt /tmp/foo.txt > /tmp/bar.txt && echo $(({{inputs.parameters.number}}*2)) > /tmp/results.txt\",\n",
    ")"
   ]
  },
  {
   "cell_type": "markdown",
   "id": "74140453",
   "metadata": {},
   "source": [
    "This defines the operation to be executed. Notice 2 things:\n",
    "1. We duplicated the content in `/tmp/foo.txt` 2 times, instead of `/tmp/msg.txt` in step 1. This is because OPTemplates are indepednent of each other. To make `/tmp/foo.txt` the same as `/tmp/msg.txt`, we only need to initialize it correctly when instantiating the OP template.\n",
    "2. We redirected the output of the arithmetic operation to `/tmp/results.txt`. This is not the file appeared in step 1."
   ]
  },
  {
   "cell_type": "code",
   "execution_count": 4,
   "id": "4dba8b07",
   "metadata": {},
   "outputs": [],
   "source": [
    "from dflow import InputArtifact\n",
    "step2_templ.inputs.artifacts = {\n",
    "                            \"in_art\":InputArtifact(path=\"/tmp/foo.txt\") \n",
    "}\n",
    "step2_templ.inputs.parameters = {\n",
    "                            \"number\": InputParameter(),\n",
    "}\n",
    "step2_templ.outputs.artifacts = {\n",
    "                            \"out_art\": OutputArtifact(path=\"/tmp/bar.txt\")\n",
    "}\n",
    "step2_templ.outputs.parameters = {\n",
    "                            \"out_param\": OutputParameter(value_from_path=\"/tmp/results.txt\")\n",
    "}"
   ]
  },
  {
   "cell_type": "markdown",
   "id": "b396f8ed",
   "metadata": {},
   "source": [
    "## Instantiate the OP template to Step"
   ]
  },
  {
   "cell_type": "markdown",
   "id": "a35ad3b2",
   "metadata": {},
   "source": [
    "`Step` in the central block for building a workflow. A `Step` is created by instantiating an OP template. When a `Step` is initialized, values of all input parameters and sources of all input artifacts declared in the OP template must be specified."
   ]
  },
  {
   "cell_type": "code",
   "execution_count": 5,
   "id": "0fd9bdf4",
   "metadata": {},
   "outputs": [],
   "source": [
    "from dflow import Step\n",
    "\n",
    "step1 = Step (\n",
    "            name=\"step1\",\n",
    "            template=step1_templ,\n",
    "            parameters={\"msg\":\"HelloWorld!\", \"number\": 1},\n",
    ")\n",
    "step2 = Step(\n",
    "            name=\"step2\",\n",
    "            template=step2_templ,\n",
    "            parameters={\"number\":step1.outputs.parameters[\"out_param\"]},\n",
    "            artifacts={\"in_art\":step1.outputs.artifacts[\"out_art\"]},\n",
    ")"
   ]
  },
  {
   "cell_type": "markdown",
   "id": "83e8aa19",
   "metadata": {},
   "source": [
    "Step 1 takes in two values as parameters: \"HelloWorld!\" and 1. Step 2 takes the values and files from step 1 as the input parameters and artifacts."
   ]
  },
  {
   "cell_type": "markdown",
   "id": "cdcf432e",
   "metadata": {},
   "source": [
    "## Put steps together and submit a workflow"
   ]
  },
  {
   "cell_type": "markdown",
   "id": "88e2c217",
   "metadata": {},
   "source": [
    "We finished building blocks of this workflow. Now we can put them togther"
   ]
  },
  {
   "cell_type": "code",
   "execution_count": 6,
   "id": "c5510220",
   "metadata": {},
   "outputs": [],
   "source": [
    "from dflow import Workflow\n",
    "wf = Workflow(name=\"helloworld\")\n",
    "wf.add(step1)\n",
    "wf.add(step2)"
   ]
  },
  {
   "cell_type": "markdown",
   "id": "6a2aa4bf",
   "metadata": {},
   "source": [
    "This creates a workflow with name \"helloworld\" and adds two steps in series."
   ]
  },
  {
   "cell_type": "markdown",
   "id": "914cb0f4",
   "metadata": {},
   "source": [
    "We can then submit the workflow. One caveat: we will get warning about certificiate verification since we haven't yet added cerificate to the address we specified for the UI. To suppress it, we can run the following "
   ]
  },
  {
   "cell_type": "code",
   "execution_count": 7,
   "id": "d0e0b5dc",
   "metadata": {},
   "outputs": [],
   "source": [
    "import urllib3\n",
    "urllib3.disable_warnings(urllib3.exceptions.InsecureRequestWarning)"
   ]
  },
  {
   "cell_type": "code",
   "execution_count": null,
   "id": "fea0ef8b",
   "metadata": {},
   "outputs": [],
   "source": [
    "wf.submit()"
   ]
  },
  {
   "cell_type": "markdown",
   "id": "39411f8a",
   "metadata": {},
   "source": [
    "Another caveat: if you want to rerun the workflow, you need to start a new workflow by reruning `wf = Workflow(name=\"helloworld\")`"
   ]
  },
  {
   "cell_type": "markdown",
   "id": "fcb86911",
   "metadata": {},
   "source": [
    "# <a name=\"Argo-UI\"></a> Argo UI"
   ]
  },
  {
   "cell_type": "markdown",
   "id": "a892ecb3",
   "metadata": {},
   "source": [
    "After finishing the previous steps, we can access the workflow we just ran on the UI (https://127.0.0.1:2746)\n",
    "\n",
    "We should see the following once loaded."
   ]
  },
  {
   "cell_type": "markdown",
   "id": "6ec5f720",
   "metadata": {},
   "source": [
    "<img src=\"./imgs/argoui_main_page.png\" alt=\"argoUI_mainpage\"/>"
   ]
  },
  {
   "cell_type": "markdown",
   "id": "62a7e833",
   "metadata": {},
   "source": [
    "We can see the workflow we just ran. Left click it then we can see the following."
   ]
  },
  {
   "attachments": {},
   "cell_type": "markdown",
   "id": "21750c04",
   "metadata": {},
   "source": [
    "<img src=\"./imgs/workflow_overview.png\" alt=\"workflow_overview\"/>"
   ]
  },
  {
   "cell_type": "markdown",
   "id": "58ab46bd",
   "metadata": {},
   "source": [
    "This gives us an overview of the workflow. The first node does not do anything. The two following nodes are the steps specified by us. Click on it then we can see more information about each step."
   ]
  },
  {
   "cell_type": "markdown",
   "id": "cebc1374",
   "metadata": {},
   "source": [
    "We can access the input/outputs of step 2. We can see the parameters of the step on the UI. We can download `out_art` by clicking the download buttom. "
   ]
  },
  {
   "cell_type": "markdown",
   "id": "73952d83",
   "metadata": {},
   "source": [
    "<img src=\"./imgs/access_one_node.png\" alt=\"access_one_node\"/>"
   ]
  },
  {
   "cell_type": "markdown",
   "id": "69662a54",
   "metadata": {},
   "source": [
    "After decompressing it, you should see a file named `bar.txt`. (This is also what we specified). Open it, you should see `HelloWorld!\\nHelloWorld!`"
   ]
  }
 ],
 "metadata": {
  "kernelspec": {
   "display_name": "Python 3.9.12 ('dflow-helloworld')",
   "language": "python",
   "name": "python3"
  },
  "language_info": {
   "codemirror_mode": {
    "name": "ipython",
    "version": 3
   },
   "file_extension": ".py",
   "mimetype": "text/x-python",
   "name": "python",
   "nbconvert_exporter": "python",
   "pygments_lexer": "ipython3",
   "version": "3.9.12"
  },
  "vscode": {
   "interpreter": {
    "hash": "ec0c59dfdf1ed76d5e8295d9c4c906f824aa962be26635388ab6f43cd303c510"
   }
  }
 },
 "nbformat": 4,
 "nbformat_minor": 5
}
