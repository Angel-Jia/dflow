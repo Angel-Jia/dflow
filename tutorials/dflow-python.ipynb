{
 "cells": [
  {
   "cell_type": "markdown",
   "metadata": {},
   "source": [
    "# Task\n",
    "We want to achieve the following workflow:\n",
    "\n",
    "Step 1. \n",
    "1. Echo a string to msg.txt \n",
    "    \n",
    "2. Echo a number and redirect it to results.txt \n",
    "    \n",
    "Step 2.\n",
    "1. Duplicate the content in msg.txt two times and redirect it to a new file\n",
    "    \n",
    "2. Get the value in results.txt and times the number by 2 and redirect it to results.txt"
   ]
  },
  {
   "cell_type": "markdown",
   "metadata": {},
   "source": [
    "##### note: we used `ShellOPTemplate` to complete the task above. In this tutorial, we will achieve the same task using `PythonOPTemplate` "
   ]
  },
  {
   "cell_type": "markdown",
   "metadata": {},
   "source": [
    "import necessary packages"
   ]
  },
  {
   "cell_type": "code",
   "execution_count": 12,
   "metadata": {},
   "outputs": [],
   "source": [
    "from pathlib import Path\n",
    "\n",
    "from dflow import Step, Workflow, download_artifact, upload_artifact\n",
    "from dflow.python import (OP, OPIO, Artifact, OPIOSign, PythonOPTemplate,\n",
    "                          upload_packages)\n",
    "from typing import List\n",
    "\n",
    "if \"__file__\" in locals():\n",
    "    upload_packages.append(__file__)\n",
    "    \n",
    "from dflow import s3_config\n",
    "s3_config[\"endpoint\"] = \"127.0.0.1:60001\""
   ]
  },
  {
   "cell_type": "markdown",
   "metadata": {},
   "source": [
    "For step 1: "
   ]
  },
  {
   "cell_type": "code",
   "execution_count": 13,
   "metadata": {},
   "outputs": [],
   "source": [
    "class WriteFile(OP):\n",
    "    def __init__(self):\n",
    "        pass\n",
    "\n",
    "    @classmethod\n",
    "    def get_input_sign(cls):\n",
    "        return OPIOSign({\n",
    "            'msg': str,\n",
    "            'number': int,\n",
    "        })\n",
    "\n",
    "    @classmethod\n",
    "    def get_output_sign(cls):\n",
    "        return OPIOSign({\n",
    "            \"out_art\": Artifact(List[Path])\n",
    "        })\n",
    "\n",
    "    @OP.exec_sign_check\n",
    "    def execute(\n",
    "            self,\n",
    "            op_in: OPIO,\n",
    "    ) -> OPIO:\n",
    "        f = open(\"msg.txt\",\"w\")\n",
    "        f.write(op_in[\"msg\"])\n",
    "        f.close()\n",
    "        g = open(\"results.txt\",\"w\")\n",
    "        g.write(str(op_in[\"number\"]))\n",
    "        g.close()\n",
    "        \n",
    "        op_out = OPIO({\n",
    "            \"out_art\": [Path(\"msg.txt\"), Path(\"results.txt\")],\n",
    "        })\n",
    "\n",
    "        return op_out"
   ]
  },
  {
   "cell_type": "markdown",
   "metadata": {},
   "source": [
    "For Step 2"
   ]
  },
  {
   "cell_type": "code",
   "execution_count": 37,
   "metadata": {},
   "outputs": [
    {
     "ename": "SyntaxError",
     "evalue": "invalid syntax (2089271328.py, line 22)",
     "output_type": "error",
     "traceback": [
      "\u001b[0;36m  Input \u001b[0;32mIn [37]\u001b[0;36m\u001b[0m\n\u001b[0;31m    os.system(\"ls {}op_in[\"in_art\"])\u001b[0m\n\u001b[0m                           ^\u001b[0m\n\u001b[0;31mSyntaxError\u001b[0m\u001b[0;31m:\u001b[0m invalid syntax\n"
     ]
    }
   ],
   "source": [
    "class Duplicate(OP):\n",
    "    def __init__(self):\n",
    "        pass\n",
    "\n",
    "    @classmethod\n",
    "    def get_input_sign(cls):\n",
    "        return OPIOSign({\n",
    "            \"in_art\": Artifact(Path),\n",
    "        })\n",
    "\n",
    "    @classmethod\n",
    "    def get_output_sign(cls):\n",
    "        return OPIOSign({\n",
    "            \"out_art\": Artifact(List[Path])\n",
    "        })\n",
    "\n",
    "    @OP.exec_sign_check\n",
    "    def execute(\n",
    "            self,\n",
    "            op_in: OPIO,\n",
    "    ) -> OPIO:\n",
    "        import os\n",
    "        os.system(f\"ls {op_in[\"in_art\"]}\")\n",
    "        f = open(op_in[\"msg\"],\"r\")\n",
    "        content = f.read()\n",
    "        f.close()\n",
    "        f = open(\"bar.txt\",\"w\")\n",
    "        f.write(content * 2)\n",
    "        f.close()\n",
    "\n",
    "        g = open(op_in[\"results\"],\"r\")\n",
    "        content = int(g.read())\n",
    "        g.close()\n",
    "        g = open(\"results.txt\",\"w\")\n",
    "        g.write(content*2)\n",
    "        g.close()\n",
    "        \n",
    "        op_out = OPIO({\n",
    "            \"out_art\": [Path(\"bar.txt\"), Path(\"results.txt\")],\n",
    "        })\n",
    "\n",
    "        return op_out"
   ]
  },
  {
   "cell_type": "code",
   "execution_count": 29,
   "metadata": {},
   "outputs": [
    {
     "ename": "RuntimeError",
     "evalue": "Workflow ID is None",
     "output_type": "error",
     "traceback": [
      "\u001b[0;31m---------------------------------------------------------------------------\u001b[0m",
      "\u001b[0;31mRuntimeError\u001b[0m                              Traceback (most recent call last)",
      "\u001b[1;32m/Users/kianpu/softwares/dflow/tutorials/dflow-python.ipynb Cell 9\u001b[0m in \u001b[0;36m<cell line: 2>\u001b[0;34m()\u001b[0m\n\u001b[1;32m      <a href='vscode-notebook-cell:/Users/kianpu/softwares/dflow/tutorials/dflow-python.ipynb#ch0000018?line=0'>1</a>\u001b[0m wf\u001b[39m=\u001b[39mWorkflow(name\u001b[39m=\u001b[39m\u001b[39m\"\u001b[39m\u001b[39mpython-nhcv7\u001b[39m\u001b[39m\"\u001b[39m)\n\u001b[0;32m----> <a href='vscode-notebook-cell:/Users/kianpu/softwares/dflow/tutorials/dflow-python.ipynb#ch0000018?line=1'>2</a>\u001b[0m wf\u001b[39m.\u001b[39;49mquery_step(name\u001b[39m=\u001b[39;49m\u001b[39m\"\u001b[39;49m\u001b[39mstep\u001b[39;49m\u001b[39m\"\u001b[39;49m)[\u001b[39m0\u001b[39m]\n",
      "File \u001b[0;32m~/softwares/miniconda3/envs/dflow/lib/python3.8/site-packages/dflow/workflow.py:343\u001b[0m, in \u001b[0;36mWorkflow.query_step\u001b[0;34m(self, name, key, phase, id)\u001b[0m\n\u001b[1;32m    325\u001b[0m \u001b[39mdef\u001b[39;00m \u001b[39mquery_step\u001b[39m(\n\u001b[1;32m    326\u001b[0m         \u001b[39mself\u001b[39m,\n\u001b[1;32m    327\u001b[0m         name: \u001b[39mstr\u001b[39m \u001b[39m=\u001b[39m \u001b[39mNone\u001b[39;00m,\n\u001b[0;32m   (...)\u001b[0m\n\u001b[1;32m    330\u001b[0m         \u001b[39mid\u001b[39m: \u001b[39mstr\u001b[39m \u001b[39m=\u001b[39m \u001b[39mNone\u001b[39;00m,\n\u001b[1;32m    331\u001b[0m ) \u001b[39m-\u001b[39m\u001b[39m>\u001b[39m List[ArgoStep]:\n\u001b[1;32m    332\u001b[0m     \u001b[39m\"\"\"\u001b[39;00m\n\u001b[1;32m    333\u001b[0m \u001b[39m    Query the existing steps of the workflow from Argo\u001b[39;00m\n\u001b[1;32m    334\u001b[0m \n\u001b[0;32m   (...)\u001b[0m\n\u001b[1;32m    341\u001b[0m \u001b[39m        a list of steps\u001b[39;00m\n\u001b[1;32m    342\u001b[0m \u001b[39m    \"\"\"\u001b[39;00m\n\u001b[0;32m--> 343\u001b[0m     \u001b[39mreturn\u001b[39;00m \u001b[39mself\u001b[39;49m\u001b[39m.\u001b[39;49mquery()\u001b[39m.\u001b[39mget_step(name\u001b[39m=\u001b[39mname, key\u001b[39m=\u001b[39mkey, phase\u001b[39m=\u001b[39mphase, \u001b[39mid\u001b[39m\u001b[39m=\u001b[39m\u001b[39mid\u001b[39m)\n",
      "File \u001b[0;32m~/softwares/miniconda3/envs/dflow/lib/python3.8/site-packages/dflow/workflow.py:298\u001b[0m, in \u001b[0;36mWorkflow.query\u001b[0;34m(self)\u001b[0m\n\u001b[1;32m    291\u001b[0m \u001b[39m\"\"\"\u001b[39;00m\n\u001b[1;32m    292\u001b[0m \u001b[39mQuery the workflow from Argo\u001b[39;00m\n\u001b[1;32m    293\u001b[0m \n\u001b[1;32m    294\u001b[0m \u001b[39mReturns:\u001b[39;00m\n\u001b[1;32m    295\u001b[0m \u001b[39m    an ArgoWorkflow object\u001b[39;00m\n\u001b[1;32m    296\u001b[0m \u001b[39m\"\"\"\u001b[39;00m\n\u001b[1;32m    297\u001b[0m \u001b[39mif\u001b[39;00m \u001b[39mself\u001b[39m\u001b[39m.\u001b[39mid \u001b[39mis\u001b[39;00m \u001b[39mNone\u001b[39;00m:\n\u001b[0;32m--> 298\u001b[0m     \u001b[39mraise\u001b[39;00m \u001b[39mRuntimeError\u001b[39;00m(\u001b[39m\"\u001b[39m\u001b[39mWorkflow ID is None\u001b[39m\u001b[39m\"\u001b[39m)\n\u001b[1;32m    299\u001b[0m \u001b[39mtry\u001b[39;00m:\n\u001b[1;32m    300\u001b[0m     response \u001b[39m=\u001b[39m \u001b[39mself\u001b[39m\u001b[39m.\u001b[39mapi_instance\u001b[39m.\u001b[39mapi_client\u001b[39m.\u001b[39mcall_api(\n\u001b[1;32m    301\u001b[0m         \u001b[39m'\u001b[39m\u001b[39m/api/v1/workflows/\u001b[39m\u001b[39m%s\u001b[39;00m\u001b[39m/\u001b[39m\u001b[39m%s\u001b[39;00m\u001b[39m'\u001b[39m \u001b[39m%\u001b[39m (\u001b[39mself\u001b[39m\u001b[39m.\u001b[39mnamespace, \u001b[39mself\u001b[39m\u001b[39m.\u001b[39mid),\n\u001b[1;32m    302\u001b[0m         \u001b[39m'\u001b[39m\u001b[39mGET\u001b[39m\u001b[39m'\u001b[39m, response_type\u001b[39m=\u001b[39m\u001b[39mobject\u001b[39m, _return_http_data_only\u001b[39m=\u001b[39m\u001b[39mTrue\u001b[39;00m)\n",
      "\u001b[0;31mRuntimeError\u001b[0m: Workflow ID is None"
     ]
    }
   ],
   "source": [
    "wf=Workflow(name=\"python-nhcv7\")\n",
    "wf.query_step(name=\"step\")[0]\n",
    "#wf.query_step(name=\"python-nhcv7-3998726336\")"
   ]
  },
  {
   "cell_type": "code",
   "execution_count": 30,
   "metadata": {},
   "outputs": [
    {
     "name": "stdout",
     "output_type": "stream",
     "text": [
      "Workflow has been submitted (ID: python-sb8kt)\n"
     ]
    },
    {
     "data": {
      "text/plain": [
       "{'metadata': {'name': 'python-sb8kt', 'generateName': 'python-', 'namespace': 'argo', 'uid': '1ac7239d-a175-4ac1-b7bf-847a3a29b8b9', 'resourceVersion': '13178', 'generation': 1, 'creationTimestamp': '2022-07-19T09:14:20Z', 'labels': {'workflows.argoproj.io/creator': 'system-serviceaccount-argo-argo-server'}, 'managedFields': [{'manager': 'argo', 'operation': 'Update', 'apiVersion': 'argoproj.io/v1alpha1', 'time': '2022-07-19T09:14:20Z', 'fieldsType': 'FieldsV1', 'fieldsV1': {'f:metadata': {'f:generateName': {}, 'f:labels': {'.': {}, 'f:workflows.argoproj.io/creator': {}}}, 'f:spec': {}, 'f:status': {}}}]}, 'spec': {'templates': [{'name': 'python-steps', 'inputs': {}, 'outputs': {}, 'metadata': {}, 'steps': [[{'name': 'step0', 'template': 'writefile-d4x1p', 'arguments': {'parameters': [{'name': 'msg', 'value': 'HelloWorld!', 'description': '{\"type\": \"<class \\'str\\'>\"}'}, {'name': 'number', 'value': '1', 'description': '{\"type\": \"<class \\'int\\'>\"}'}], 'artifacts': [{'name': 'dflow_python_packages', 'path': '/tmp/inputs/artifacts/dflow_python_packages', 's3': {'key': 'upload/a706c727-40ed-4ca2-af2f-0ee02cf1d988/tmp9ot1cqmv.tgz'}}]}, 'continueOn': {}}]]}, {'name': 'writefile-d4x1p', 'inputs': {'parameters': [{'name': 'msg', 'description': '{\"type\": \"<class \\'str\\'>\"}'}, {'name': 'number', 'description': '{\"type\": \"<class \\'int\\'>\"}'}], 'artifacts': [{'name': 'dflow_python_packages', 'path': '/tmp/inputs/artifacts/dflow_python_packages'}]}, 'outputs': {'artifacts': [{'name': 'out_art', 'path': '/tmp/outputs/artifacts/out_art'}]}, 'metadata': {'annotations': {'workflows.argoproj.io/progress': '0/1'}}, 'script': {'name': '', 'image': 'python:3.8', 'command': ['python'], 'resources': {}, 'source': 'import os, sys, json\\npackage_root = \\'/tmp/inputs/artifacts/dflow_python_packages\\'\\ncatalog_dir = os.path.join(package_root, \\'.dflow\\')\\nif os.path.exists(catalog_dir):\\n    for f in os.listdir(catalog_dir):\\n        with open(os.path.join(catalog_dir, f), \\'r\\') as fd:\\n            for item in json.load(fd)[\\'path_list\\']:\\n                sys.path.insert(0, os.path.join(package_root, os.path.dirname(item[\\'dflow_list_item\\'])))\\nfrom dflow import config\\nconfig[\\'save_path_as_parameter\\'] = False\\nconfig[\\'catalog_dir_name\\'] = \\'.dflow\\'\\nimport cloudpickle\\nWriteFile = cloudpickle.loads(b\"\\\\x80\\\\x05\\\\x95Y\\\\x08\\\\x00\\\\x00\\\\x00\\\\x00\\\\x00\\\\x00\\\\x8c\\\\x17cloudpickle.cloudpickle\\\\x94\\\\x8c\\\\x14_make_skeleton_class\\\\x94\\\\x93\\\\x94(\\\\x8c\\\\x03abc\\\\x94\\\\x8c\\\\x07ABCMeta\\\\x94\\\\x93\\\\x94\\\\x8c\\\\tWriteFile\\\\x94\\\\x8c\\\\x0fdflow.python.op\\\\x94\\\\x8c\\\\x02OP\\\\x94\\\\x93\\\\x94\\\\x85\\\\x94}\\\\x94\\\\x8c c819e162142944069789ef7e36797bcb\\\\x94Nt\\\\x94R\\\\x94\\\\x8c\\\\x1ccloudpickle.cloudpickle_fast\\\\x94\\\\x8c\\\\x0f_class_setstate\\\\x94\\\\x93\\\\x94h\\\\x0e}\\\\x94(\\\\x8c\\\\n__module__\\\\x94\\\\x8c\\\\x08__main__\\\\x94\\\\x8c\\\\x08__init__\\\\x94h\\\\x00\\\\x8c\\\\x0e_make_function\\\\x94\\\\x93\\\\x94(h\\\\x00\\\\x8c\\\\r_builtin_type\\\\x94\\\\x93\\\\x94\\\\x8c\\\\x08CodeType\\\\x94\\\\x85\\\\x94R\\\\x94(K\\\\x01K\\\\x00K\\\\x00K\\\\x01K\\\\x01KCC\\\\x04d\\\\x00S\\\\x00\\\\x94N\\\\x85\\\\x94)\\\\x8c\\\\x04self\\\\x94\\\\x85\\\\x94\\\\x8cK/var/folders/wl/m4w6yq997795y3t0hdz6s7yw0000gn/T/ipykernel_1304/60155885.py\\\\x94h\\\\x15K\\\\x02C\\\\x02\\\\x00\\\\x01\\\\x94))t\\\\x94R\\\\x94}\\\\x94(\\\\x8c\\\\x0b__package__\\\\x94N\\\\x8c\\\\x08__name__\\\\x94h\\\\x14uNNNt\\\\x94R\\\\x94h\\\\x0f\\\\x8c\\\\x12_function_setstate\\\\x94\\\\x93\\\\x94h)}\\\\x94}\\\\x94(h\\'h\\\\x15\\\\x8c\\\\x0c__qualname__\\\\x94\\\\x8c\\\\x12WriteFile.__init__\\\\x94\\\\x8c\\\\x0f__annotations__\\\\x94}\\\\x94\\\\x8c\\\\x0e__kwdefaults__\\\\x94N\\\\x8c\\\\x0c__defaults__\\\\x94Nh\\\\x13h\\\\x14\\\\x8c\\\\x07__doc__\\\\x94N\\\\x8c\\\\x0b__closure__\\\\x94N\\\\x8c\\\\x17_cloudpickle_submodules\\\\x94]\\\\x94\\\\x8c\\\\x0b__globals__\\\\x94}\\\\x94u\\\\x86\\\\x94\\\\x86R0\\\\x8c\\\\x0eget_input_sign\\\\x94\\\\x8c\\\\x08builtins\\\\x94\\\\x8c\\\\x0bclassmethod\\\\x94\\\\x93\\\\x94h\\\\x17(h\\\\x1c(K\\\\x01K\\\\x00K\\\\x00K\\\\x01K\\\\x04KCC\\\\x0et\\\\x00t\\\\x01t\\\\x02d\\\\x01\\\\x9c\\\\x02\\\\x83\\\\x01S\\\\x00\\\\x94N\\\\x8c\\\\x03msg\\\\x94\\\\x8c\\\\x06number\\\\x94\\\\x86\\\\x94\\\\x86\\\\x94\\\\x8c\\\\x08OPIOSign\\\\x94\\\\x8c\\\\x03str\\\\x94\\\\x8c\\\\x03int\\\\x94\\\\x87\\\\x94\\\\x8c\\\\x03cls\\\\x94\\\\x85\\\\x94h!h;K\\\\x05C\\\\x08\\\\x00\\\\x02\\\\x02\\\\x01\\\\x02\\\\x01\\\\x02\\\\xfe\\\\x94))t\\\\x94R\\\\x94h%NNNt\\\\x94R\\\\x94h+hN}\\\\x94}\\\\x94(h\\'h;h.\\\\x8c\\\\x18WriteFile.get_input_sign\\\\x94h0}\\\\x94h2Nh3Nh\\\\x13h\\\\x14h4Nh5Nh6]\\\\x94h8}\\\\x94hD\\\\x8c\\\\x11dflow.python.opio\\\\x94hD\\\\x93\\\\x94su\\\\x86\\\\x94\\\\x86R0\\\\x85\\\\x94R\\\\x94\\\\x8c\\\\x0fget_output_sign\\\\x94h>h\\\\x17(h\\\\x1c(K\\\\x01K\\\\x00K\\\\x00K\\\\x01K\\\\x05KCC\\\\x14t\\\\x00d\\\\x01t\\\\x01t\\\\x02t\\\\x03\\\\x19\\\\x00\\\\x83\\\\x01i\\\\x01\\\\x83\\\\x01S\\\\x00\\\\x94N\\\\x8c\\\\x07out_art\\\\x94\\\\x86\\\\x94(hD\\\\x8c\\\\x08Artifact\\\\x94\\\\x8c\\\\x04List\\\\x94\\\\x8c\\\\x04Path\\\\x94t\\\\x94hIh!hZK\\\\x0cC\\\\x08\\\\x00\\\\x02\\\\x02\\\\x01\\\\x02\\\\x00\\\\n\\\\xff\\\\x94))t\\\\x94R\\\\x94h%NNNt\\\\x94R\\\\x94h+hf}\\\\x94}\\\\x94(h\\'hZh.\\\\x8c\\\\x19WriteFile.get_output_sign\\\\x94h0}\\\\x94h2Nh3Nh\\\\x13h\\\\x14h4Nh5Nh6]\\\\x94h8}\\\\x94(hDhVh^hUh^\\\\x93\\\\x94h_\\\\x8c\\\\x06typing\\\\x94h_\\\\x93\\\\x94h`\\\\x8c\\\\x07pathlib\\\\x94h`\\\\x93\\\\x94uu\\\\x86\\\\x94\\\\x86R0\\\\x85\\\\x94R\\\\x94\\\\x8c\\\\x07execute\\\\x94h\\\\x17(h\\\\x1c(K\\\\x02K\\\\x00K\\\\x00K\\\\x03K\\\\x05K\\\\x13C.t\\\\x00\\\\xa0\\\\x01|\\\\x01|\\\\x00\\\\xa0\\\\x02\\\\xa1\\\\x00\\\\xa1\\\\x02\\\\x01\\\\x00\\\\x88\\\\x00|\\\\x00|\\\\x01\\\\x83\\\\x02}\\\\x02t\\\\x00\\\\xa0\\\\x01|\\\\x02|\\\\x00\\\\xa0\\\\x03\\\\xa1\\\\x00\\\\xa1\\\\x02\\\\x01\\\\x00|\\\\x02S\\\\x00\\\\x94N\\\\x85\\\\x94(h\\\\x08\\\\x8c\\\\x10_check_signature\\\\x94h;hZt\\\\x94h\\\\x1f\\\\x8c\\\\x05op_in\\\\x94\\\\x8c\\\\x06op_out\\\\x94\\\\x87\\\\x94\\\\x8c\\\\\\\\/Users/kianpu/softwares/miniconda3/envs/dflow/lib/python3.8/site-packages/dflow/python/op.py\\\\x94\\\\x8c\\\\x0cwrapper_exec\\\\x94K:C\\\\x08\\\\x00\\\\x02\\\\x10\\\\x01\\\\n\\\\x01\\\\x10\\\\x01\\\\x94\\\\x8c\\\\x04func\\\\x94\\\\x85\\\\x94)t\\\\x94R\\\\x94}\\\\x94(h&\\\\x8c\\\\x0cdflow.python\\\\x94h\\'h\\\\x07\\\\x8c\\\\x08__file__\\\\x94\\\\x8c\\\\\\\\/Users/kianpu/softwares/miniconda3/envs/dflow/lib/python3.8/site-packages/dflow/python/op.py\\\\x94uNNh\\\\x00\\\\x8c\\\\x10_make_empty_cell\\\\x94\\\\x93\\\\x94)R\\\\x94\\\\x85\\\\x94t\\\\x94R\\\\x94h+h\\\\x8d}\\\\x94\\\\x8c\\\\x0b__wrapped__\\\\x94h\\\\x17(h\\\\x1c(K\\\\x02K\\\\x00K\\\\x00K\\\\x05K\\\\x05KCC`t\\\\x00d\\\\x01d\\\\x02\\\\x83\\\\x02}\\\\x02|\\\\x02\\\\xa0\\\\x01|\\\\x01d\\\\x03\\\\x19\\\\x00\\\\xa1\\\\x01\\\\x01\\\\x00|\\\\x02\\\\xa0\\\\x02\\\\xa1\\\\x00\\\\x01\\\\x00t\\\\x00d\\\\x04d\\\\x02\\\\x83\\\\x02}\\\\x03|\\\\x03\\\\xa0\\\\x01t\\\\x03|\\\\x01d\\\\x05\\\\x19\\\\x00\\\\x83\\\\x01\\\\xa1\\\\x01\\\\x01\\\\x00|\\\\x03\\\\xa0\\\\x02\\\\xa1\\\\x00\\\\x01\\\\x00t\\\\x04d\\\\x06t\\\\x05d\\\\x01\\\\x83\\\\x01t\\\\x05d\\\\x04\\\\x83\\\\x01g\\\\x02i\\\\x01\\\\x83\\\\x01}\\\\x04|\\\\x04S\\\\x00\\\\x94(N\\\\x8c\\\\x07msg.txt\\\\x94\\\\x8c\\\\x01w\\\\x94h@\\\\x8c\\\\x0bresults.txt\\\\x94hAh\\\\\\\\t\\\\x94(\\\\x8c\\\\x04open\\\\x94\\\\x8c\\\\x05write\\\\x94\\\\x8c\\\\x05close\\\\x94hE\\\\x8c\\\\x04OPIO\\\\x94h`t\\\\x94(h\\\\x1fhz\\\\x8c\\\\x01f\\\\x94\\\\x8c\\\\x01g\\\\x94h{t\\\\x94h!huK\\\\x12C\\\\x16\\\\x00\\\\x05\\\\n\\\\x01\\\\x0e\\\\x01\\\\x08\\\\x01\\\\n\\\\x01\\\\x12\\\\x01\\\\x08\\\\x02\\\\x02\\\\x01\\\\x02\\\\x00\\\\x0e\\\\xff\\\\x06\\\\x04\\\\x94))t\\\\x94R\\\\x94h%NNNt\\\\x94R\\\\x94h+h\\\\xa1}\\\\x94}\\\\x94(h\\'huh.\\\\x8c\\\\x11WriteFile.execute\\\\x94h0}\\\\x94(hzhUh\\\\x98\\\\x93\\\\x94\\\\x8c\\\\x06return\\\\x94h\\\\xa6uh2Nh3Nh\\\\x13h\\\\x14h4Nh5Nh6]\\\\x94h8}\\\\x94(h\\\\x98h\\\\xa6h`hquu\\\\x86\\\\x94\\\\x86R0s}\\\\x94(h\\'huh.h\\\\xa4h0h\\\\xa5h2Nh3Nh\\\\x13h\\\\x14h4Nh5h\\\\x00\\\\x8c\\\\n_make_cell\\\\x94\\\\x93\\\\x94h\\\\xa1\\\\x85\\\\x94R\\\\x94\\\\x85\\\\x94h6]\\\\x94h8}\\\\x94h\\\\x08h\\\\tsu\\\\x86\\\\x94\\\\x86R0h4N\\\\x8c\\\\x13__abstractmethods__\\\\x94(\\\\x91\\\\x94\\\\x8c\\\\t_abc_impl\\\\x94]\\\\x94u}\\\\x94\\\\x86\\\\x94\\\\x86R0.\")\\nimport os, sys, traceback, jsonpickle\\nfrom dflow.python import OPIO, TransientError, FatalError\\nfrom dflow.python.utils import handle_input_artifact, handle_input_parameter\\nfrom dflow.python.utils import handle_output_artifact, handle_output_parameter\\nfrom __main__ import WriteFile\\n\\nop_obj = WriteFile()\\ninput = OPIO()\\ninput_sign = WriteFile.get_input_sign()\\ninput[\\'msg\\'] = handle_input_parameter(\\'msg\\', r\\'\\'\\'{{inputs.parameters.msg}}\\'\\'\\', input_sign[\\'msg\\'], None, \\'/tmp\\')\\ninput[\\'number\\'] = handle_input_parameter(\\'number\\', r\\'\\'\\'{{inputs.parameters.number}}\\'\\'\\', input_sign[\\'number\\'], None, \\'/tmp\\')\\ntry:\\n    output = op_obj.execute(input)\\nexcept TransientError:\\n    traceback.print_exc()\\n    sys.exit(1)\\nexcept FatalError:\\n    traceback.print_exc()\\n    sys.exit(2)\\nos.makedirs(\\'/tmp/outputs/parameters\\', exist_ok=True)\\nos.makedirs(\\'/tmp/outputs/artifacts\\', exist_ok=True)\\noutput_sign = WriteFile.get_output_sign()\\nhandle_output_artifact(\\'out_art\\', output[\\'out_art\\'], output_sign[\\'out_art\\'], None, \\'/tmp\\')\\n'}}], 'entrypoint': 'python-steps', 'arguments': {}, 'serviceAccountName': 'argo'}, 'status': {'startedAt': None, 'finishedAt': None}}"
      ]
     },
     "execution_count": 30,
     "metadata": {},
     "output_type": "execute_result"
    }
   ],
   "source": [
    "step0 = Step(\n",
    "    name=\"step0\",\n",
    "    template=PythonOPTemplate(WriteFile, image=\"python:3.8\"),\n",
    "    parameters={\"msg\": \"HelloWorld!\", \"number\": 1},\n",
    ")\n",
    "\n",
    "# step1 = Step(\n",
    "#     name=\"step1\",\n",
    "#     template=PythonOPTemplate(Duplicate, image=\"python:3.8\"),\n",
    "#     artifacts={\"msg\":step0.outputs.artifacts[\"out_art\"][0],\"results\":step0.outputs.artifacts[\"out_art\"][1]}\n",
    "# )\n",
    "wf = Workflow(name=\"python\")\n",
    "wf.add(step0)\n",
    "#wf.add(step1)\n",
    "wf.submit()"
   ]
  },
  {
   "cell_type": "code",
   "execution_count": 36,
   "metadata": {},
   "outputs": [
    {
     "data": {
      "text/plain": [
       "{'name': 'out_art', 'path': '/tmp/outputs/artifacts/out_art', 's3': {'key': 'python-sb8kt/python-sb8kt-2785520844/out_art.tgz'}}"
      ]
     },
     "execution_count": 36,
     "metadata": {},
     "output_type": "execute_result"
    }
   ],
   "source": [
    "wf.query_step(name=\"step0\")[0].outputs.artifacts[\"out_art\"]"
   ]
  },
  {
   "cell_type": "code",
   "execution_count": null,
   "metadata": {},
   "outputs": [],
   "source": []
  }
 ],
 "metadata": {
  "kernelspec": {
   "display_name": "Python 3.8.13 ('dflow')",
   "language": "python",
   "name": "python3"
  },
  "language_info": {
   "codemirror_mode": {
    "name": "ipython",
    "version": 3
   },
   "file_extension": ".py",
   "mimetype": "text/x-python",
   "name": "python",
   "nbconvert_exporter": "python",
   "pygments_lexer": "ipython3",
   "version": "3.8.13"
  },
  "orig_nbformat": 4,
  "vscode": {
   "interpreter": {
    "hash": "6b9551e59394a2991b809952bb73195262197907daf1011efb2c98895a84e3cb"
   }
  }
 },
 "nbformat": 4,
 "nbformat_minor": 2
}
