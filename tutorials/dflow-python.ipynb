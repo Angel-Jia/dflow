{
 "cells": [
  {
   "cell_type": "markdown",
   "metadata": {},
   "source": [
    "# Task\n",
    "We want to achieve the following workflow:\n",
    "\n",
    "Step 1. \n",
    "1. Echo a string to msg.txt \n",
    "    \n",
    "2. Echo a number and redirect it to results.txt \n",
    "    \n",
    "Step 2.\n",
    "1. Duplicate the content in msg.txt two times and redirect it to a new file\n",
    "    \n",
    "2. Get the value in results.txt and times the number by 2 and redirect it to results.txt"
   ]
  },
  {
   "cell_type": "markdown",
   "metadata": {},
   "source": [
    "##### note: we used `ShellOPTemplate` to complete the task above. In this tutorial, we will achieve the same task using `PythonOPTemplate` "
   ]
  },
  {
   "cell_type": "markdown",
   "metadata": {},
   "source": [
    "import necessary packages"
   ]
  },
  {
   "cell_type": "code",
   "execution_count": 49,
   "metadata": {},
   "outputs": [],
   "source": [
    "from pathlib import Path\n",
    "\n",
    "from dflow import Step, Workflow, download_artifact, upload_artifact\n",
    "from dflow.python import (OP, OPIO, Artifact, OPIOSign, PythonOPTemplate,\n",
    "                          upload_packages)\n",
    "from typing import List\n",
    "\n",
    "if \"__file__\" in locals():\n",
    "    upload_packages.append(__file__)"
   ]
  },
  {
   "cell_type": "markdown",
   "metadata": {},
   "source": [
    "For step 1: \n",
    "This class can achieve the function to write files. In the example, we try to write one file containing message of string format, and one file including number of int format.\n",
    "- input:\n",
    "    - \"msg\"\n",
    "    - \"number\"\n",
    "- output:\n",
    "    - two file.txt"
   ]
  },
  {
   "cell_type": "code",
   "execution_count": 50,
   "metadata": {},
   "outputs": [],
   "source": [
    "class WriteFile(OP):\n",
    "    def __init__(self):\n",
    "        pass\n",
    "\n",
    "    @classmethod\n",
    "    def get_input_sign(cls):\n",
    "        return OPIOSign({\n",
    "            'msg': str,\n",
    "            'number': int,\n",
    "        })\n",
    "\n",
    "    @classmethod\n",
    "    def get_output_sign(cls):\n",
    "        return OPIOSign({\n",
    "            \"out_art\": Artifact(List[Path])\n",
    "        })\n",
    "\n",
    "    @OP.exec_sign_check\n",
    "    def execute(\n",
    "            self,\n",
    "            op_in: OPIO,\n",
    "    ) -> OPIO:\n",
    "        f = open(\"msg.txt\",\"w\")\n",
    "        f.write(op_in[\"msg\"])\n",
    "        f.close()\n",
    "        g = open(\"results.txt\",\"w\")\n",
    "        g.write(str(op_in[\"number\"]))\n",
    "        g.close()\n",
    "        \n",
    "        op_out = OPIO({\n",
    "            \"out_art\": [Path(\"msg.txt\"), Path(\"results.txt\")],\n",
    "        })\n",
    "\n",
    "        return op_out"
   ]
  },
  {
   "cell_type": "markdown",
   "metadata": {},
   "source": [
    "For Step 2"
   ]
  },
  {
   "cell_type": "code",
   "execution_count": 51,
   "metadata": {},
   "outputs": [],
   "source": [
    "class Duplicate(OP):\n",
    "    def __init__(self):\n",
    "        pass\n",
    "\n",
    "    @classmethod\n",
    "    def get_input_sign(cls):\n",
    "        return OPIOSign({\n",
    "            \"in_art\": Artifact(Path),\n",
    "        })\n",
    "\n",
    "    @classmethod\n",
    "    def get_output_sign(cls):\n",
    "        return OPIOSign({\n",
    "            \"out_art\": Artifact(List[Path])\n",
    "        })\n",
    "\n",
    "    @OP.exec_sign_check\n",
    "    def execute(\n",
    "            self,\n",
    "            op_in: OPIO,\n",
    "    ) -> OPIO:\n",
    "    \n",
    "        f = open(op_in[\"in_art\"] / \"msg.txt\",\"r\")\n",
    "        content = f.read()\n",
    "        f.close()\n",
    "        f = open(\"bar.txt\",\"w\")\n",
    "        f.write(content * 2)\n",
    "        f.close()\n",
    "\n",
    "        g = open(op_in[\"in_art\"] / \"results.txt\",\"r\")\n",
    "        content = int(g.read())\n",
    "        g.close()\n",
    "        g = open(\"results.txt\",\"w\")\n",
    "        g.write(str(content*2))\n",
    "        g.close()\n",
    "        \n",
    "        op_out = OPIO({\n",
    "            \"out_art\": [Path(\"bar.txt\"), Path(\"results.txt\")],\n",
    "        })\n",
    "\n",
    "        return op_out"
   ]
  },
  {
   "cell_type": "code",
   "execution_count": 52,
   "metadata": {},
   "outputs": [
    {
     "name": "stdout",
     "output_type": "stream",
     "text": [
      "Workflow has been submitted (ID: python-fgkmz)\n"
     ]
    }
   ],
   "source": [
    "step0 = Step(\n",
    "    name=\"step0\",\n",
    "    template=PythonOPTemplate(WriteFile, image=\"python:3.8\"),\n",
    "    parameters={\"msg\": \"HelloWorld!\", \"number\": 1},\n",
    ")\n",
    "\n",
    "step1 = Step(\n",
    "    name=\"step1\",\n",
    "    template=PythonOPTemplate(Duplicate, image=\"python:3.8\"),\n",
    "    artifacts={\"in_art\":step0.outputs.artifacts[\"out_art\"]}\n",
    ")\n",
    "wf = Workflow(name=\"python\")\n",
    "wf.add(step0)\n",
    "wf.add(step1)\n",
    "wf.submit();"
   ]
  },
  {
   "cell_type": "code",
   "execution_count": null,
   "metadata": {},
   "outputs": [],
   "source": []
  }
 ],
 "metadata": {
  "kernelspec": {
   "display_name": "Python 3.8.13 ('dflow')",
   "language": "python",
   "name": "python3"
  },
  "language_info": {
   "codemirror_mode": {
    "name": "ipython",
    "version": 3
   },
   "file_extension": ".py",
   "mimetype": "text/x-python",
   "name": "python",
   "nbconvert_exporter": "python",
   "pygments_lexer": "ipython3",
   "version": "3.8.13"
  },
  "orig_nbformat": 4,
  "vscode": {
   "interpreter": {
    "hash": "6b9551e59394a2991b809952bb73195262197907daf1011efb2c98895a84e3cb"
   }
  }
 },
 "nbformat": 4,
 "nbformat_minor": 2
}
