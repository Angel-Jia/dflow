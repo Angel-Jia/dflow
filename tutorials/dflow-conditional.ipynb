{
 "cells": [
  {
   "cell_type": "markdown",
   "metadata": {},
   "source": [
    "# Task\n",
    "In this tutorial, you will learn how to use if_expression.\n",
    "\n",
    "There is a special package needed to import, which is random."
   ]
  },
  {
   "cell_type": "code",
   "execution_count": 1,
   "metadata": {},
   "outputs": [],
   "source": [
    "import random\n",
    "\n",
    "from dflow import (OutputArtifact, OutputParameter, Outputs, Step, Steps,\n",
    "            Workflow, if_expression)\n",
    "from dflow.python import (OP, OPIO, Artifact, OPIOSign, PythonOPTemplate,\n",
    "                    upload_packages)\n",
    "\n",
    "if \"__file__\" in locals():\n",
    "    upload_packages.append(__file__)"
   ]
  },
  {
   "cell_type": "markdown",
   "metadata": {},
   "source": [
    "**Random OP**\n",
    "This OP's outputs include five parameters, as shown below.\n",
    "- `is_header` will get a bool type value through random function, true or false.\n",
    "- `msg1` is \"head\",\n",
    "- `msg2` is \"tail\",\n",
    "- `foo` is txt format with content of \"head\"\n",
    "- `bar` includes content of \"tail\"\n"
   ]
  },
  {
   "cell_type": "code",
   "execution_count": 2,
   "metadata": {},
   "outputs": [],
   "source": [
    "class Random(OP):\n",
    "    @classmethod\n",
    "    def get_input_sign(cls):\n",
    "        return OPIOSign()\n",
    "\n",
    "    @classmethod\n",
    "    def get_output_sign(cls):\n",
    "        return OPIOSign({\n",
    "            \"is_head\": bool,\n",
    "            \"msg1\": str,\n",
    "            \"msg2\": str,\n",
    "            \"foo\": Artifact(str),\n",
    "            \"bar\": Artifact(str)\n",
    "        })\n",
    "\n",
    "    @OP.exec_sign_check\n",
    "    def execute(\n",
    "            self,\n",
    "            op_in: OPIO,\n",
    "    ) -> OPIO:\n",
    "        open(\"foo.txt\", \"w\").write(\"head\")\n",
    "        open(\"bar.txt\", \"w\").write(\"tail\")\n",
    "        if random.random() < 0.5:\n",
    "            is_head = True\n",
    "        else:\n",
    "            is_head = False\n",
    "        return OPIO({\n",
    "            \"is_head\": is_head,\n",
    "            \"msg1\": \"head\",\n",
    "            \"msg2\": \"tail\",\n",
    "            \"foo\": \"foo.txt\",\n",
    "            \"bar\": \"bar.txt\"\n",
    "        })"
   ]
  },
  {
   "cell_type": "markdown",
   "metadata": {},
   "source": [
    "Believe you remember what you have learned from `dflow-reuse.py` about `Steps`. There, `Steps` has a output parameter and artifact.\n",
    "\n",
    "The Random defined above is used here, using python3.8"
   ]
  },
  {
   "cell_type": "code",
   "execution_count": null,
   "metadata": {},
   "outputs": [],
   "source": [
    "steps = Steps(\n",
    "    name=\"conditional-steps\", \n",
    "    outputs=Outputs(\n",
    "    parameters={\"msg\": OutputParameter()},\n",
    "    artifacts={\"res\": OutputArtifact()})\n",
    ")\n",
    "\n",
    "random_step = Step(\n",
    "    name=\"random\",\n",
    "    template=PythonOPTemplate(Random, image=\"python:3.8\")\n",
    ")\n",
    "\n",
    "steps.add(random_step)"
   ]
  },
  {
   "cell_type": "markdown",
   "metadata": {},
   "source": [
    "# if_expression\n",
    "\n",
    "In this part, `if_expression` is used to determine which message and artifact will be used. To illustrate: \n",
    "- if `is_head` is true, then `steps.outputs.parameters`'s `msg` will be `msg1` and `res` will be `foo` that includes the content of head.\n",
    "- else, `steps.outputs.parameters`'s `msg` will be `msg2` and `res` will be `bar` that includes the content of tail."
   ]
  },
  {
   "cell_type": "code",
   "execution_count": null,
   "metadata": {},
   "outputs": [],
   "source": [
    "steps.outputs.parameters[\"msg\"].value_from_expression = if_expression(\n",
    "    _if=random_step.outputs.parameters[\"is_head\"],\n",
    "    _then=random_step.outputs.parameters[\"msg1\"],\n",
    "    _else=random_step.outputs.parameters[\"msg2\"])\n",
    "\n",
    "steps.outputs.artifacts[\"res\"].from_expression = if_expression(\n",
    "    _if=random_step.outputs.parameters[\"is_head\"],\n",
    "    _then=random_step.outputs.artifacts[\"foo\"],\n",
    "    _else=random_step.outputs.artifacts[\"bar\"])"
   ]
  },
  {
   "cell_type": "code",
   "execution_count": null,
   "metadata": {},
   "outputs": [
    {
     "name": "stdout",
     "output_type": "stream",
     "text": [
      "Workflow has been submitted (ID: conditional-jdcfh)\n"
     ]
    }
   ],
   "source": [
    "wf = Workflow(name=\"conditional\", steps=steps)\n",
    "wf.submit();"
   ]
  }
 ],
 "metadata": {
  "kernelspec": {
   "display_name": "Python 3.8.13 ('dflow')",
   "language": "python",
   "name": "python3"
  },
  "language_info": {
   "codemirror_mode": {
    "name": "ipython",
    "version": 3
   },
   "file_extension": ".py",
   "mimetype": "text/x-python",
   "name": "python",
   "nbconvert_exporter": "python",
   "pygments_lexer": "ipython3",
   "version": "3.8.13"
  },
  "orig_nbformat": 4,
  "vscode": {
   "interpreter": {
    "hash": "6b9551e59394a2991b809952bb73195262197907daf1011efb2c98895a84e3cb"
   }
  }
 },
 "nbformat": 4,
 "nbformat_minor": 2
}
