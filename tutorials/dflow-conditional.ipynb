{
 "cells": [
  {
   "cell_type": "code",
   "execution_count": 6,
   "metadata": {},
   "outputs": [],
   "source": [
    "import random\n",
    "\n",
    "from dflow import (OutputArtifact, OutputParameter, Outputs, Step, Steps,\n",
    "            Workflow, if_expression)\n",
    "from dflow.python import (OP, OPIO, Artifact, OPIOSign, PythonOPTemplate,\n",
    "                    upload_packages)\n",
    "\n",
    "if \"__file__\" in locals():\n",
    "    upload_packages.append(__file__)"
   ]
  },
  {
   "cell_type": "code",
   "execution_count": 7,
   "metadata": {},
   "outputs": [],
   "source": [
    "class Random(OP):\n",
    "    @classmethod\n",
    "    def get_input_sign(cls):\n",
    "        return OPIOSign()\n",
    "\n",
    "    @classmethod\n",
    "    def get_output_sign(cls):\n",
    "        return OPIOSign({\n",
    "            \"is_head\": bool,\n",
    "            \"msg1\": str,\n",
    "            \"msg2\": str,\n",
    "            \"foo\": Artifact(str),\n",
    "            \"bar\": Artifact(str)\n",
    "        })\n",
    "\n",
    "    @OP.exec_sign_check\n",
    "    def execute(\n",
    "            self,\n",
    "            op_in: OPIO,\n",
    "    ) -> OPIO:\n",
    "        open(\"foo.txt\", \"w\").write(\"head\")\n",
    "        open(\"bar.txt\", \"w\").write(\"tail\")\n",
    "        if random.random() < 0.5:\n",
    "            is_head = True\n",
    "        else:\n",
    "            is_head = False\n",
    "        return OPIO({\n",
    "            \"is_head\": is_head,\n",
    "            \"msg1\": \"head\",\n",
    "            \"msg2\": \"tail\",\n",
    "            \"foo\": \"foo.txt\",\n",
    "            \"bar\": \"bar.txt\"\n",
    "        })"
   ]
  },
  {
   "cell_type": "code",
   "execution_count": 8,
   "metadata": {},
   "outputs": [],
   "source": [
    "steps = Steps(\"conditional-steps\", outputs=Outputs(\n",
    "    parameters={\"msg\": OutputParameter()},\n",
    "    artifacts={\"res\": OutputArtifact()}))\n",
    "\n",
    "random_step = Step(\n",
    "    name=\"random\",\n",
    "    template=PythonOPTemplate(Random, image=\"python:3.8\")\n",
    ")\n",
    "\n",
    "steps.add(random_step)"
   ]
  },
  {
   "cell_type": "code",
   "execution_count": 9,
   "metadata": {},
   "outputs": [],
   "source": [
    "steps.outputs.parameters[\"msg\"].value_from_expression = if_expression(\n",
    "    _if=random_step.outputs.parameters[\"is_head\"],\n",
    "    _then=random_step.outputs.parameters[\"msg1\"],\n",
    "    _else=random_step.outputs.parameters[\"msg2\"])\n",
    "\n",
    "steps.outputs.artifacts[\"res\"].from_expression = if_expression(\n",
    "    _if=random_step.outputs.parameters[\"is_head\"],\n",
    "    _then=random_step.outputs.artifacts[\"foo\"],\n",
    "    _else=random_step.outputs.artifacts[\"bar\"])"
   ]
  },
  {
   "cell_type": "code",
   "execution_count": 10,
   "metadata": {},
   "outputs": [
    {
     "name": "stdout",
     "output_type": "stream",
     "text": [
      "Workflow has been submitted (ID: conditional-jdcfh)\n"
     ]
    }
   ],
   "source": [
    "wf = Workflow(name=\"conditional\", steps=steps)\n",
    "wf.submit();"
   ]
  }
 ],
 "metadata": {
  "kernelspec": {
   "display_name": "Python 3.8.13 ('dflow')",
   "language": "python",
   "name": "python3"
  },
  "language_info": {
   "codemirror_mode": {
    "name": "ipython",
    "version": 3
   },
   "file_extension": ".py",
   "mimetype": "text/x-python",
   "name": "python",
   "nbconvert_exporter": "python",
   "pygments_lexer": "ipython3",
   "version": "3.8.13"
  },
  "orig_nbformat": 4,
  "vscode": {
   "interpreter": {
    "hash": "6b9551e59394a2991b809952bb73195262197907daf1011efb2c98895a84e3cb"
   }
  }
 },
 "nbformat": 4,
 "nbformat_minor": 2
}
